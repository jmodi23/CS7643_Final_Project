{
 "cells": [
  {
   "cell_type": "markdown",
   "metadata": {},
   "source": [
    "# SBERT Fine Tuning"
   ]
  },
  {
   "cell_type": "markdown",
   "metadata": {},
   "source": [
    "## Imports"
   ]
  },
  {
   "cell_type": "code",
   "execution_count": 1,
   "metadata": {},
   "outputs": [],
   "source": [
    "import torch\n",
    "from sentence_transformers import SentenceTransformer, losses, InputExample\n",
    "from torch.utils.data import DataLoader\n",
    "from sklearn.model_selection import train_test_split\n",
    "import random\n",
    "import pandas as pd\n",
    "import numpy as np"
   ]
  },
  {
   "cell_type": "code",
   "execution_count": null,
   "metadata": {},
   "outputs": [],
   "source": [
    "# Set random seeds for reproducibility\n",
    "SEED = 42\n",
    "np.random.seed(SEED)\n",
    "random.seed(SEED)\n",
    "torch.manual_seed(SEED)\n",
    "if torch.cuda.is_available():\n",
    "    torch.cuda.manual_seed_all(SEED)"
   ]
  },
  {
   "cell_type": "markdown",
   "metadata": {},
   "source": [
    "## Functions"
   ]
  },
  {
   "cell_type": "code",
   "execution_count": 3,
   "metadata": {},
   "outputs": [],
   "source": [
    "def load_dataset(file_path, text_column, label_column):\n",
    "    df = pd.read_csv(file_path)\n",
    "    return df[text_column].tolist(), df[label_column].tolist()"
   ]
  },
  {
   "cell_type": "code",
   "execution_count": null,
   "metadata": {},
   "outputs": [],
   "source": [
    "\n",
    "def create_training_data(texts, labels, num_samples=10000):\n",
    "    \"\"\"\n",
    "    Function to create training data with random positive and negative pairs for sentence embeddings.\n",
    "    This function assumes that positive pairs are two samples from the same label and negative pairs \n",
    "    are samples from different labels.\n",
    "    \n",
    "    Args:\n",
    "    texts (list): List of text samples (documents).\n",
    "    labels (list): List of corresponding labels for the text samples.\n",
    "    num_samples (int): The number of training examples to generate. Default is 10,000.\n",
    "    \n",
    "    Returns:\n",
    "    train_examples (list): List of InputExample instances for training.\n",
    "    \"\"\"\n",
    "    # Create a dictionary where the key is the label and the value is a list of texts for that label.\n",
    "    label_to_texts = {}\n",
    "    for text, label in zip(texts, labels):\n",
    "        label_to_texts.setdefault(label, []).append(text)\n",
    "\n",
    "    train_examples = []\n",
    "    unique_labels = list(label_to_texts.keys())\n",
    "\n",
    "    # Shuffle the text samples within each label to ensure randomness\n",
    "    for label in unique_labels:\n",
    "        random.shuffle(label_to_texts[label]) \n",
    "\n",
    "    # Generate pairs for training\n",
    "    for _ in range(num_samples):\n",
    "        # Randomly choose a positive label and a negative label\n",
    "        pos_label = random.choice(unique_labels)\n",
    "        neg_label = random.choice([l for l in unique_labels if l != pos_label])\n",
    "\n",
    "        # Shuffle again before selecting to avoid repeated sampling patterns\n",
    "        random.shuffle(label_to_texts[pos_label])\n",
    "        random.shuffle(label_to_texts[neg_label])\n",
    "\n",
    "        # Randomly select two samples from the positive label for a positive pair\n",
    "        pos_pair = random.sample(label_to_texts[pos_label], 2)\n",
    "\n",
    "        # Randomly select one sample from the negative label for a negative sample\n",
    "        neg_sample = random.choice(label_to_texts[neg_label])\n",
    "\n",
    "        # Append both a positive pair and a negative pair to the training examples\n",
    "        train_examples.append(InputExample(texts=pos_pair, label=1))  # Positive pair (label=1)\n",
    "        train_examples.append(InputExample(texts=[pos_pair[0], neg_sample], label=0))  # Negative pair (label=0)\n",
    "\n",
    "    return train_examples"
   ]
  },
  {
   "cell_type": "markdown",
   "metadata": {},
   "source": [
    "## Load in data"
   ]
  },
  {
   "cell_type": "code",
   "execution_count": null,
   "metadata": {},
   "outputs": [],
   "source": [
    "# Example usage\n",
    "file_path = 'dataset.csv'  # Replace with your dataset file\n",
    "text_column = 'text'  # Replace with your text column name\n",
    "label_column = 'label'  # Replace with your class label column name\n",
    "texts, labels = load_dataset(file_path, text_column, label_column)\n",
    "\n",
    "# Clean data if needed\n"
   ]
  },
  {
   "cell_type": "markdown",
   "metadata": {},
   "source": [
    "## Perform Finetuning"
   ]
  },
  {
   "cell_type": "code",
   "execution_count": 7,
   "metadata": {},
   "outputs": [],
   "source": [
    "# Split into train and test sets\n",
    "train_texts, test_texts, train_labels, test_labels = train_test_split(texts, labels, test_size=0.2, random_state=SEED)\n"
   ]
  },
  {
   "cell_type": "code",
   "execution_count": 8,
   "metadata": {},
   "outputs": [],
   "source": [
    "train_data = create_training_data(train_texts, train_labels)"
   ]
  },
  {
   "cell_type": "code",
   "execution_count": 9,
   "metadata": {},
   "outputs": [],
   "source": [
    "# Load pre-trained SBERT model\n",
    "model = SentenceTransformer('all-MiniLM-L6-v2')"
   ]
  },
  {
   "cell_type": "code",
   "execution_count": null,
   "metadata": {},
   "outputs": [],
   "source": [
    "# Define loss function (contrastive learning)\n",
    "train_dataloader = DataLoader(train_data, batch_size=16, shuffle=True)\n",
    "train_loss = losses.CosineSimilarityLoss(model) # Used since we are focusing on an embedding space\n"
   ]
  },
  {
   "cell_type": "code",
   "execution_count": null,
   "metadata": {},
   "outputs": [
    {
     "data": {
      "application/vnd.jupyter.widget-view+json": {
       "model_id": "aed66b1fd87b467cba5bc9ee2b034a4d",
       "version_major": 2,
       "version_minor": 0
      },
      "text/plain": [
       "Computing widget examples:   0%|          | 0/1 [00:00<?, ?example/s]"
      ]
     },
     "metadata": {},
     "output_type": "display_data"
    },
    {
     "data": {
      "text/html": [
       "\n",
       "    <div>\n",
       "      \n",
       "      <progress value='1250' max='1250' style='width:300px; height:20px; vertical-align: middle;'></progress>\n",
       "      [1250/1250 04:28, Epoch 1/1]\n",
       "    </div>\n",
       "    <table border=\"1\" class=\"dataframe\">\n",
       "  <thead>\n",
       " <tr style=\"text-align: left;\">\n",
       "      <th>Step</th>\n",
       "      <th>Training Loss</th>\n",
       "    </tr>\n",
       "  </thead>\n",
       "  <tbody>\n",
       "    <tr>\n",
       "      <td>500</td>\n",
       "      <td>0.174700</td>\n",
       "    </tr>\n",
       "    <tr>\n",
       "      <td>1000</td>\n",
       "      <td>0.131000</td>\n",
       "    </tr>\n",
       "  </tbody>\n",
       "</table><p>"
      ],
      "text/plain": [
       "<IPython.core.display.HTML object>"
      ]
     },
     "metadata": {},
     "output_type": "display_data"
    }
   ],
   "source": [
    "model.fit(\n",
    "    train_objectives=[(train_dataloader, train_loss)],\n",
    "    epochs=1,  \n",
    "    warmup_steps=100,\n",
    "    weight_decay=0.01,\n",
    "    optimizer_params={'lr': 2e-5},\n",
    "    max_grad_norm=0.5\n",
    "    #scheduler 5 epochs\n",
    ")\n"
   ]
  },
  {
   "cell_type": "code",
   "execution_count": null,
   "metadata": {},
   "outputs": [],
   "source": [
    "# Save fine-tuned model\n",
    "model.save('sbert_finetuned')"
   ]
  }
 ],
 "metadata": {
  "kernelspec": {
   "display_name": "DL_newsgroups",
   "language": "python",
   "name": "python3"
  },
  "language_info": {
   "codemirror_mode": {
    "name": "ipython",
    "version": 3
   },
   "file_extension": ".py",
   "mimetype": "text/x-python",
   "name": "python",
   "nbconvert_exporter": "python",
   "pygments_lexer": "ipython3",
   "version": "3.11.11"
  }
 },
 "nbformat": 4,
 "nbformat_minor": 2
}
