{
 "cells": [
  {
   "cell_type": "markdown",
   "metadata": {},
   "source": [
    "# Imports"
   ]
  },
  {
   "cell_type": "code",
   "execution_count": null,
   "metadata": {},
   "outputs": [],
   "source": [
    "from .semantic_search import *\n",
    "from finetune_sbert import SBERTTuner\n",
    "from .data.newsgroups_data import NewsGroupsDataset\n",
    "from sentence_transformers import losses\n",
    "from finetune_distilbert import DistilBERTTuner"
   ]
  },
  {
   "cell_type": "markdown",
   "metadata": {},
   "source": [
    "# Load data"
   ]
  },
  {
   "cell_type": "code",
   "execution_count": 2,
   "metadata": {},
   "outputs": [],
   "source": [
    "# Set the categories you want to include\n",
    "\n",
    "newsgroups_params = {\n",
    "    'categories': ['alt.atheism',\n",
    "                    'comp.graphics',\n",
    "                    'comp.os.ms-windows.misc',\n",
    "                    'comp.sys.ibm.pc.hardware',\n",
    "                    'comp.sys.mac.hardware',\n",
    "                    'comp.windows.x',\n",
    "                    'misc.forsale',\n",
    "                    'rec.autos',\n",
    "                    'rec.motorcycles',\n",
    "                    'rec.sport.baseball',\n",
    "                    'rec.sport.hockey',\n",
    "                    'sci.crypt',\n",
    "                    'sci.electronics',\n",
    "                    'sci.med',\n",
    "                    'sci.space',\n",
    "                    'soc.religion.christian',\n",
    "                    'talk.politics.guns',\n",
    "                    'talk.politics.mideast',\n",
    "                    'talk.politics.misc',\n",
    "                    'talk.religion.misc'],\n",
    "    'holdout_classes': ['talk.politics.guns',\n",
    "                        'talk.politics.mideast',\n",
    "                        'talk.politics.misc']\n",
    "}\n",
    "\n"
   ]
  },
  {
   "cell_type": "code",
   "execution_count": 3,
   "metadata": {},
   "outputs": [],
   "source": [
    "dataset = NewsGroupsDataset(**newsgroups_params)"
   ]
  },
  {
   "cell_type": "markdown",
   "metadata": {},
   "source": [
    "# SBERT Evaluations"
   ]
  },
  {
   "cell_type": "code",
   "execution_count": null,
   "metadata": {},
   "outputs": [],
   "source": [
    "sbert_tuner = SBERTTuner(dataset=dataset, dataset_name='20newsgroups')"
   ]
  },
  {
   "cell_type": "code",
   "execution_count": null,
   "metadata": {},
   "outputs": [],
   "source": [
    "sbert_tuner.fine_tune(batch_size=16, epochs=30, learning_rate=1e-06, weight_decay=0, max_grad_norm=0.5, use_student_teacher=True, kl_alpha=0.85)"
   ]
  },
  {
   "cell_type": "code",
   "execution_count": 6,
   "metadata": {},
   "outputs": [
    {
     "name": "stdout",
     "output_type": "stream",
     "text": [
      "Trained with classes: alt.atheism, comp.graphics, comp.os.ms-windows.misc, comp.sys.ibm.pc.hardware, comp.sys.mac.hardware, comp.windows.x, misc.forsale, rec.autos, rec.motorcycles, rec.sport.baseball, rec.sport.hockey, sci.crypt, sci.electronics, sci.med, sci.space, soc.religion.christian, talk.religion.misc\n",
      "Holding out classes: talk.politics.guns, talk.politics.mideast, talk.politics.misc\n"
     ]
    },
    {
     "data": {
      "application/vnd.jupyter.widget-view+json": {
       "model_id": "4065aee61d88485b9335b49ede404753",
       "version_major": 2,
       "version_minor": 0
      },
      "text/plain": [
       "Batches:   0%|          | 0/365 [00:00<?, ?it/s]"
      ]
     },
     "metadata": {},
     "output_type": "display_data"
    },
    {
     "name": "stdout",
     "output_type": "stream",
     "text": [
      "FAISS index created w/ dimension: 384\n"
     ]
    },
    {
     "data": {
      "application/vnd.jupyter.widget-view+json": {
       "model_id": "5d9352f5feda467486ee24c4cc345925",
       "version_major": 2,
       "version_minor": 0
      },
      "text/plain": [
       "Batches:   0%|          | 0/102 [00:00<?, ?it/s]"
      ]
     },
     "metadata": {},
     "output_type": "display_data"
    },
    {
     "name": "stdout",
     "output_type": "stream",
     "text": [
      "\n",
      "== Regular Test Evaluation Results (KNN) ==\n",
      "Accuracy:    0.7529\n",
      "F1-Score:    0.7544\n",
      "Precision:   0.7641\n",
      "Recall:      0.7529\n",
      "MRR:         0.8280\n",
      "Top-5 Acc: 0.9088\n",
      "\n",
      "Full Classification Report:\n",
      "                          precision    recall  f1-score   support\n",
      "\n",
      "             alt.atheism       0.62      0.70      0.65       160\n",
      "           comp.graphics       0.68      0.78      0.73       195\n",
      " comp.os.ms-windows.misc       0.49      0.71      0.58       197\n",
      "comp.sys.ibm.pc.hardware       0.65      0.67      0.66       196\n",
      "   comp.sys.mac.hardware       0.66      0.63      0.65       193\n",
      "          comp.windows.x       0.81      0.81      0.81       198\n",
      "            misc.forsale       0.71      0.78      0.74       195\n",
      "               rec.autos       0.77      0.74      0.75       198\n",
      "         rec.motorcycles       0.88      0.78      0.82       199\n",
      "      rec.sport.baseball       0.90      0.84      0.87       199\n",
      "        rec.sport.hockey       0.92      0.85      0.89       200\n",
      "               sci.crypt       0.85      0.87      0.86       198\n",
      "         sci.electronics       0.78      0.63      0.70       197\n",
      "                 sci.med       0.88      0.86      0.87       198\n",
      "               sci.space       0.87      0.77      0.81       197\n",
      "  soc.religion.christian       0.79      0.80      0.80       199\n",
      "      talk.religion.misc       0.68      0.41      0.51       126\n",
      "\n",
      "                accuracy                           0.75      3245\n",
      "               macro avg       0.76      0.74      0.75      3245\n",
      "            weighted avg       0.76      0.75      0.75      3245\n",
      "\n"
     ]
    },
    {
     "data": {
      "application/vnd.jupyter.widget-view+json": {
       "model_id": "8a096e758b1f492d9293348869739e2c",
       "version_major": 2,
       "version_minor": 0
      },
      "text/plain": [
       "Batches:   0%|          | 0/102 [00:00<?, ?it/s]"
      ]
     },
     "metadata": {},
     "output_type": "display_data"
    },
    {
     "name": "stdout",
     "output_type": "stream",
     "text": [
      "\n",
      "== Classifier Evaluation Metrics ==\n",
      "Average Loss: 2.7823\n",
      "Perplexity:   16.1558\n",
      "Few-Shot Learning: Adding Holdout Classes to Index\n"
     ]
    },
    {
     "data": {
      "application/vnd.jupyter.widget-view+json": {
       "model_id": "928f405e1e3a494ba3318c14695c7f91",
       "version_major": 2,
       "version_minor": 0
      },
      "text/plain": [
       "Batches:   0%|          | 0/1 [00:00<?, ?it/s]"
      ]
     },
     "metadata": {},
     "output_type": "display_data"
    },
    {
     "data": {
      "application/vnd.jupyter.widget-view+json": {
       "model_id": "b948f861dd894374bd2bddf0c46012cd",
       "version_major": 2,
       "version_minor": 0
      },
      "text/plain": [
       "Batches:   0%|          | 0/183 [00:00<?, ?it/s]"
      ]
     },
     "metadata": {},
     "output_type": "display_data"
    },
    {
     "name": "stdout",
     "output_type": "stream",
     "text": [
      "\n",
      "== Holdout (Few-Shot) Evaluation Results (KNN) ==\n",
      "Accuracy:    0.4374\n",
      "F1-Score:    0.3724\n",
      "Precision:   0.4584\n",
      "Recall:      0.4374\n",
      "MRR:         0.5260\n",
      "Top-5 Acc: 0.6116\n",
      "\n",
      "Full Classification Report:\n",
      "                          precision    recall  f1-score   support\n",
      "\n",
      "             alt.atheism       0.14      0.69      0.24       160\n",
      "           comp.graphics       0.63      0.78      0.70       195\n",
      " comp.os.ms-windows.misc       0.37      0.71      0.49       197\n",
      "comp.sys.ibm.pc.hardware       0.63      0.67      0.65       196\n",
      "   comp.sys.mac.hardware       0.71      0.62      0.66       193\n",
      "          comp.windows.x       0.77      0.81      0.79       198\n",
      "            misc.forsale       0.64      0.78      0.71       195\n",
      "               rec.autos       0.38      0.74      0.50       198\n",
      "         rec.motorcycles       0.59      0.78      0.67       199\n",
      "      rec.sport.baseball       0.75      0.84      0.79       199\n",
      "        rec.sport.hockey       0.75      0.85      0.80       200\n",
      "               sci.crypt       0.23      0.87      0.37       198\n",
      "         sci.electronics       0.70      0.63      0.66       197\n",
      "                 sci.med       0.67      0.86      0.75       198\n",
      "               sci.space       0.57      0.77      0.66       197\n",
      "  soc.religion.christian       0.34      0.80      0.48       199\n",
      "      talk.politics.guns       0.00      0.00      0.00       905\n",
      "   talk.politics.mideast       0.99      0.13      0.23       935\n",
      "      talk.politics.misc       0.00      0.00      0.00       770\n",
      "      talk.religion.misc       0.10      0.41      0.16       126\n",
      "\n",
      "                accuracy                           0.44      5855\n",
      "               macro avg       0.50      0.64      0.52      5855\n",
      "            weighted avg       0.46      0.44      0.37      5855\n",
      "\n"
     ]
    },
    {
     "name": "stderr",
     "output_type": "stream",
     "text": [
      "/Users/joshbelot/Virtual_Environments/DL_newsgroups/lib/python3.11/site-packages/sklearn/metrics/_classification.py:1509: UndefinedMetricWarning: Precision is ill-defined and being set to 0.0 in labels with no predicted samples. Use `zero_division` parameter to control this behavior.\n",
      "  _warn_prf(average, modifier, f\"{metric.capitalize()} is\", len(result))\n",
      "/Users/joshbelot/Virtual_Environments/DL_newsgroups/lib/python3.11/site-packages/sklearn/metrics/_classification.py:1509: UndefinedMetricWarning: Precision is ill-defined and being set to 0.0 in labels with no predicted samples. Use `zero_division` parameter to control this behavior.\n",
      "  _warn_prf(average, modifier, f\"{metric.capitalize()} is\", len(result))\n",
      "/Users/joshbelot/Virtual_Environments/DL_newsgroups/lib/python3.11/site-packages/sklearn/metrics/_classification.py:1509: UndefinedMetricWarning: Precision is ill-defined and being set to 0.0 in labels with no predicted samples. Use `zero_division` parameter to control this behavior.\n",
      "  _warn_prf(average, modifier, f\"{metric.capitalize()} is\", len(result))\n",
      "/Users/joshbelot/Virtual_Environments/DL_newsgroups/lib/python3.11/site-packages/sklearn/metrics/_classification.py:1509: UndefinedMetricWarning: Precision is ill-defined and being set to 0.0 in labels with no predicted samples. Use `zero_division` parameter to control this behavior.\n",
      "  _warn_prf(average, modifier, f\"{metric.capitalize()} is\", len(result))\n"
     ]
    }
   ],
   "source": [
    "run_text_classification_pipeline(dataset, model_name='all-MiniLM-L6-v2')\n"
   ]
  },
  {
   "cell_type": "code",
   "execution_count": 7,
   "metadata": {},
   "outputs": [
    {
     "name": "stdout",
     "output_type": "stream",
     "text": [
      "Trained with classes: alt.atheism, comp.graphics, comp.os.ms-windows.misc, comp.sys.ibm.pc.hardware, comp.sys.mac.hardware, comp.windows.x, misc.forsale, rec.autos, rec.motorcycles, rec.sport.baseball, rec.sport.hockey, sci.crypt, sci.electronics, sci.med, sci.space, soc.religion.christian, talk.religion.misc\n",
      "Holding out classes: talk.politics.guns, talk.politics.mideast, talk.politics.misc\n"
     ]
    },
    {
     "data": {
      "application/vnd.jupyter.widget-view+json": {
       "model_id": "c3aa7909ddf84465b828e980e2b34026",
       "version_major": 2,
       "version_minor": 0
      },
      "text/plain": [
       "Batches:   0%|          | 0/365 [00:00<?, ?it/s]"
      ]
     },
     "metadata": {},
     "output_type": "display_data"
    },
    {
     "name": "stdout",
     "output_type": "stream",
     "text": [
      "FAISS index created w/ dimension: 384\n"
     ]
    },
    {
     "data": {
      "application/vnd.jupyter.widget-view+json": {
       "model_id": "8c68007820f646a3ad2caa3d9cc368b4",
       "version_major": 2,
       "version_minor": 0
      },
      "text/plain": [
       "Batches:   0%|          | 0/102 [00:00<?, ?it/s]"
      ]
     },
     "metadata": {},
     "output_type": "display_data"
    },
    {
     "name": "stdout",
     "output_type": "stream",
     "text": [
      "\n",
      "== Regular Test Evaluation Results (KNN) ==\n",
      "Accuracy:    0.7643\n",
      "F1-Score:    0.7664\n",
      "Precision:   0.7769\n",
      "Recall:      0.7643\n",
      "MRR:         0.8286\n",
      "Top-5 Acc: 0.8980\n",
      "\n",
      "Full Classification Report:\n",
      "                          precision    recall  f1-score   support\n",
      "\n",
      "             alt.atheism       0.59      0.69      0.63       160\n",
      "           comp.graphics       0.69      0.78      0.73       195\n",
      " comp.os.ms-windows.misc       0.49      0.75      0.59       197\n",
      "comp.sys.ibm.pc.hardware       0.70      0.71      0.70       196\n",
      "   comp.sys.mac.hardware       0.66      0.68      0.67       193\n",
      "          comp.windows.x       0.83      0.84      0.84       198\n",
      "            misc.forsale       0.79      0.83      0.81       195\n",
      "               rec.autos       0.81      0.75      0.78       198\n",
      "         rec.motorcycles       0.87      0.73      0.79       199\n",
      "      rec.sport.baseball       0.92      0.86      0.89       199\n",
      "        rec.sport.hockey       0.95      0.84      0.89       200\n",
      "               sci.crypt       0.91      0.80      0.85       198\n",
      "         sci.electronics       0.80      0.72      0.76       197\n",
      "                 sci.med       0.88      0.92      0.90       198\n",
      "               sci.space       0.86      0.81      0.83       197\n",
      "  soc.religion.christian       0.78      0.77      0.78       199\n",
      "      talk.religion.misc       0.56      0.35      0.43       126\n",
      "\n",
      "                accuracy                           0.76      3245\n",
      "               macro avg       0.77      0.75      0.76      3245\n",
      "            weighted avg       0.78      0.76      0.77      3245\n",
      "\n"
     ]
    },
    {
     "data": {
      "application/vnd.jupyter.widget-view+json": {
       "model_id": "7844c84d05494620a7022a8ef11a65d9",
       "version_major": 2,
       "version_minor": 0
      },
      "text/plain": [
       "Batches:   0%|          | 0/102 [00:00<?, ?it/s]"
      ]
     },
     "metadata": {},
     "output_type": "display_data"
    },
    {
     "name": "stdout",
     "output_type": "stream",
     "text": [
      "\n",
      "== Classifier Evaluation Metrics ==\n",
      "Average Loss: 2.7729\n",
      "Perplexity:   16.0045\n",
      "Few-Shot Learning: Adding Holdout Classes to Index\n"
     ]
    },
    {
     "data": {
      "application/vnd.jupyter.widget-view+json": {
       "model_id": "bcfe4a04eefd4b45b32629592a77ea53",
       "version_major": 2,
       "version_minor": 0
      },
      "text/plain": [
       "Batches:   0%|          | 0/1 [00:00<?, ?it/s]"
      ]
     },
     "metadata": {},
     "output_type": "display_data"
    },
    {
     "data": {
      "application/vnd.jupyter.widget-view+json": {
       "model_id": "0256270690554d73bd28d4cf964a589b",
       "version_major": 2,
       "version_minor": 0
      },
      "text/plain": [
       "Batches:   0%|          | 0/183 [00:00<?, ?it/s]"
      ]
     },
     "metadata": {},
     "output_type": "display_data"
    },
    {
     "name": "stdout",
     "output_type": "stream",
     "text": [
      "\n",
      "== Holdout (Few-Shot) Evaluation Results (KNN) ==\n",
      "Accuracy:    0.4410\n",
      "F1-Score:    0.3786\n",
      "Precision:   0.6224\n",
      "Recall:      0.4410\n",
      "MRR:         0.5242\n",
      "Top-5 Acc: 0.6020\n",
      "\n",
      "Full Classification Report:\n",
      "                          precision    recall  f1-score   support\n",
      "\n",
      "             alt.atheism       0.12      0.69      0.20       160\n",
      "           comp.graphics       0.66      0.78      0.71       195\n",
      " comp.os.ms-windows.misc       0.33      0.75      0.46       197\n",
      "comp.sys.ibm.pc.hardware       0.68      0.71      0.69       196\n",
      "   comp.sys.mac.hardware       0.62      0.68      0.65       193\n",
      "          comp.windows.x       0.79      0.84      0.81       198\n",
      "            misc.forsale       0.73      0.83      0.77       195\n",
      "               rec.autos       0.42      0.75      0.54       198\n",
      "         rec.motorcycles       0.59      0.73      0.65       199\n",
      "      rec.sport.baseball       0.82      0.86      0.84       199\n",
      "        rec.sport.hockey       0.86      0.84      0.85       200\n",
      "               sci.crypt       0.27      0.80      0.40       198\n",
      "         sci.electronics       0.72      0.72      0.72       197\n",
      "                 sci.med       0.63      0.92      0.74       198\n",
      "               sci.space       0.56      0.81      0.66       197\n",
      "  soc.religion.christian       0.43      0.78      0.55       199\n",
      "      talk.politics.guns       1.00      0.00      0.00       905\n",
      "   talk.politics.mideast       0.98      0.11      0.19       935\n",
      "      talk.politics.misc       0.00      0.00      0.00       770\n",
      "      talk.religion.misc       0.08      0.35      0.13       126\n",
      "\n",
      "                accuracy                           0.44      5855\n",
      "               macro avg       0.56      0.65      0.53      5855\n",
      "            weighted avg       0.62      0.44      0.38      5855\n",
      "\n"
     ]
    },
    {
     "name": "stderr",
     "output_type": "stream",
     "text": [
      "/Users/joshbelot/Virtual_Environments/DL_newsgroups/lib/python3.11/site-packages/sklearn/metrics/_classification.py:1509: UndefinedMetricWarning: Precision is ill-defined and being set to 0.0 in labels with no predicted samples. Use `zero_division` parameter to control this behavior.\n",
      "  _warn_prf(average, modifier, f\"{metric.capitalize()} is\", len(result))\n",
      "/Users/joshbelot/Virtual_Environments/DL_newsgroups/lib/python3.11/site-packages/sklearn/metrics/_classification.py:1509: UndefinedMetricWarning: Precision is ill-defined and being set to 0.0 in labels with no predicted samples. Use `zero_division` parameter to control this behavior.\n",
      "  _warn_prf(average, modifier, f\"{metric.capitalize()} is\", len(result))\n",
      "/Users/joshbelot/Virtual_Environments/DL_newsgroups/lib/python3.11/site-packages/sklearn/metrics/_classification.py:1509: UndefinedMetricWarning: Precision is ill-defined and being set to 0.0 in labels with no predicted samples. Use `zero_division` parameter to control this behavior.\n",
      "  _warn_prf(average, modifier, f\"{metric.capitalize()} is\", len(result))\n",
      "/Users/joshbelot/Virtual_Environments/DL_newsgroups/lib/python3.11/site-packages/sklearn/metrics/_classification.py:1509: UndefinedMetricWarning: Precision is ill-defined and being set to 0.0 in labels with no predicted samples. Use `zero_division` parameter to control this behavior.\n",
      "  _warn_prf(average, modifier, f\"{metric.capitalize()} is\", len(result))\n"
     ]
    }
   ],
   "source": [
    "run_text_classification_pipeline(dataset, model_name='models/tuned_sbert/20newsgroups')"
   ]
  },
  {
   "cell_type": "code",
   "execution_count": 8,
   "metadata": {},
   "outputs": [
    {
     "name": "stdout",
     "output_type": "stream",
     "text": [
      "Trained with classes: alt.atheism, comp.graphics, comp.os.ms-windows.misc, comp.sys.ibm.pc.hardware, comp.sys.mac.hardware, comp.windows.x, misc.forsale, rec.autos, rec.motorcycles, rec.sport.baseball, rec.sport.hockey, sci.crypt, sci.electronics, sci.med, sci.space, soc.religion.christian, talk.religion.misc\n",
      "Holding out classes: talk.politics.guns, talk.politics.mideast, talk.politics.misc\n"
     ]
    },
    {
     "data": {
      "application/vnd.jupyter.widget-view+json": {
       "model_id": "bf40487dbac042098faf09a1a3d73364",
       "version_major": 2,
       "version_minor": 0
      },
      "text/plain": [
       "Batches:   0%|          | 0/365 [00:00<?, ?it/s]"
      ]
     },
     "metadata": {},
     "output_type": "display_data"
    },
    {
     "name": "stdout",
     "output_type": "stream",
     "text": [
      "FAISS index created w/ dimension: 768\n"
     ]
    },
    {
     "data": {
      "application/vnd.jupyter.widget-view+json": {
       "model_id": "1075d2ddee734407af8d69cc275dfaff",
       "version_major": 2,
       "version_minor": 0
      },
      "text/plain": [
       "Batches:   0%|          | 0/102 [00:00<?, ?it/s]"
      ]
     },
     "metadata": {},
     "output_type": "display_data"
    },
    {
     "name": "stdout",
     "output_type": "stream",
     "text": [
      "\n",
      "== Regular Test Evaluation Results (KNN) ==\n",
      "Accuracy:    0.5898\n",
      "F1-Score:    0.5929\n",
      "Precision:   0.6114\n",
      "Recall:      0.5898\n",
      "MRR:         0.6944\n",
      "Top-5 Acc: 0.8234\n",
      "\n",
      "Full Classification Report:\n",
      "                          precision    recall  f1-score   support\n",
      "\n",
      "             alt.atheism       0.42      0.55      0.48       160\n",
      "           comp.graphics       0.39      0.58      0.47       195\n",
      " comp.os.ms-windows.misc       0.36      0.56      0.44       197\n",
      "comp.sys.ibm.pc.hardware       0.43      0.42      0.42       196\n",
      "   comp.sys.mac.hardware       0.43      0.46      0.45       193\n",
      "          comp.windows.x       0.56      0.61      0.58       198\n",
      "            misc.forsale       0.68      0.67      0.68       195\n",
      "               rec.autos       0.72      0.57      0.64       198\n",
      "         rec.motorcycles       0.72      0.60      0.66       199\n",
      "      rec.sport.baseball       0.82      0.73      0.77       199\n",
      "        rec.sport.hockey       0.83      0.76      0.79       200\n",
      "               sci.crypt       0.74      0.69      0.71       198\n",
      "         sci.electronics       0.59      0.35      0.44       197\n",
      "                 sci.med       0.74      0.76      0.75       198\n",
      "               sci.space       0.79      0.68      0.73       197\n",
      "  soc.religion.christian       0.63      0.67      0.65       199\n",
      "      talk.religion.misc       0.43      0.21      0.29       126\n",
      "\n",
      "                accuracy                           0.59      3245\n",
      "               macro avg       0.60      0.58      0.58      3245\n",
      "            weighted avg       0.61      0.59      0.59      3245\n",
      "\n"
     ]
    },
    {
     "data": {
      "application/vnd.jupyter.widget-view+json": {
       "model_id": "e28d30359b5141749938eafa3dde676e",
       "version_major": 2,
       "version_minor": 0
      },
      "text/plain": [
       "Batches:   0%|          | 0/102 [00:00<?, ?it/s]"
      ]
     },
     "metadata": {},
     "output_type": "display_data"
    },
    {
     "name": "stdout",
     "output_type": "stream",
     "text": [
      "\n",
      "== Classifier Evaluation Metrics ==\n",
      "Average Loss: 2.7744\n",
      "Perplexity:   16.0294\n",
      "Few-Shot Learning: Adding Holdout Classes to Index\n"
     ]
    },
    {
     "data": {
      "application/vnd.jupyter.widget-view+json": {
       "model_id": "80947178b68c436884bf2c097980b73f",
       "version_major": 2,
       "version_minor": 0
      },
      "text/plain": [
       "Batches:   0%|          | 0/1 [00:00<?, ?it/s]"
      ]
     },
     "metadata": {},
     "output_type": "display_data"
    },
    {
     "data": {
      "application/vnd.jupyter.widget-view+json": {
       "model_id": "78f622a53f9041ddbbf9b65a3e050917",
       "version_major": 2,
       "version_minor": 0
      },
      "text/plain": [
       "Batches:   0%|          | 0/183 [00:00<?, ?it/s]"
      ]
     },
     "metadata": {},
     "output_type": "display_data"
    },
    {
     "name": "stdout",
     "output_type": "stream",
     "text": [
      "\n",
      "== Holdout (Few-Shot) Evaluation Results (KNN) ==\n",
      "Accuracy:    0.3264\n",
      "F1-Score:    0.2494\n",
      "Precision:   0.2119\n",
      "Recall:      0.3264\n",
      "MRR:         0.3913\n",
      "Top-5 Acc: 0.4705\n",
      "\n",
      "Full Classification Report:\n",
      "                          precision    recall  f1-score   support\n",
      "\n",
      "             alt.atheism       0.11      0.55      0.18       160\n",
      "           comp.graphics       0.30      0.58      0.40       195\n",
      " comp.os.ms-windows.misc       0.25      0.56      0.34       197\n",
      "comp.sys.ibm.pc.hardware       0.37      0.42      0.39       196\n",
      "   comp.sys.mac.hardware       0.42      0.45      0.43       193\n",
      "          comp.windows.x       0.48      0.61      0.53       198\n",
      "            misc.forsale       0.53      0.67      0.59       195\n",
      "               rec.autos       0.31      0.57      0.40       198\n",
      "         rec.motorcycles       0.45      0.60      0.51       199\n",
      "      rec.sport.baseball       0.42      0.73      0.53       199\n",
      "        rec.sport.hockey       0.57      0.76      0.65       200\n",
      "               sci.crypt       0.27      0.69      0.38       198\n",
      "         sci.electronics       0.46      0.35      0.40       197\n",
      "                 sci.med       0.49      0.76      0.60       198\n",
      "               sci.space       0.56      0.68      0.61       197\n",
      "  soc.religion.christian       0.29      0.67      0.40       199\n",
      "      talk.politics.guns       0.00      0.00      0.00       905\n",
      "   talk.politics.mideast       0.00      0.00      0.00       935\n",
      "      talk.politics.misc       0.00      0.00      0.00       770\n",
      "      talk.religion.misc       0.08      0.21      0.11       126\n",
      "\n",
      "                accuracy                           0.33      5855\n",
      "               macro avg       0.32      0.49      0.37      5855\n",
      "            weighted avg       0.21      0.33      0.25      5855\n",
      "\n"
     ]
    },
    {
     "name": "stderr",
     "output_type": "stream",
     "text": [
      "/Users/joshbelot/Virtual_Environments/DL_newsgroups/lib/python3.11/site-packages/sklearn/metrics/_classification.py:1509: UndefinedMetricWarning: Precision is ill-defined and being set to 0.0 in labels with no predicted samples. Use `zero_division` parameter to control this behavior.\n",
      "  _warn_prf(average, modifier, f\"{metric.capitalize()} is\", len(result))\n",
      "/Users/joshbelot/Virtual_Environments/DL_newsgroups/lib/python3.11/site-packages/sklearn/metrics/_classification.py:1509: UndefinedMetricWarning: Precision is ill-defined and being set to 0.0 in labels with no predicted samples. Use `zero_division` parameter to control this behavior.\n",
      "  _warn_prf(average, modifier, f\"{metric.capitalize()} is\", len(result))\n",
      "/Users/joshbelot/Virtual_Environments/DL_newsgroups/lib/python3.11/site-packages/sklearn/metrics/_classification.py:1509: UndefinedMetricWarning: Precision is ill-defined and being set to 0.0 in labels with no predicted samples. Use `zero_division` parameter to control this behavior.\n",
      "  _warn_prf(average, modifier, f\"{metric.capitalize()} is\", len(result))\n",
      "/Users/joshbelot/Virtual_Environments/DL_newsgroups/lib/python3.11/site-packages/sklearn/metrics/_classification.py:1509: UndefinedMetricWarning: Precision is ill-defined and being set to 0.0 in labels with no predicted samples. Use `zero_division` parameter to control this behavior.\n",
      "  _warn_prf(average, modifier, f\"{metric.capitalize()} is\", len(result))\n"
     ]
    }
   ],
   "source": [
    "run_text_classification_pipeline(dataset, model_name='distilbert-base-nli-stsb-mean-tokens')"
   ]
  },
  {
   "cell_type": "markdown",
   "metadata": {},
   "source": [
    "# Distilbert evaluations"
   ]
  },
  {
   "cell_type": "code",
   "execution_count": null,
   "metadata": {},
   "outputs": [],
   "source": [
    "DB_tuner = DistilBERTTuner(dataset, '20newsgroups')"
   ]
  },
  {
   "cell_type": "code",
   "execution_count": null,
   "metadata": {},
   "outputs": [
    {
     "data": {
      "application/vnd.jupyter.widget-view+json": {
       "model_id": "455f096730464e389cd3e6ec297de9ef",
       "version_major": 2,
       "version_minor": 0
      },
      "text/plain": [
       "Computing widget examples:   0%|          | 0/1 [00:00<?, ?example/s]"
      ]
     },
     "metadata": {},
     "output_type": "display_data"
    },
    {
     "data": {
      "text/html": [
       "\n",
       "    <div>\n",
       "      \n",
       "      <progress value='18750' max='18750' style='width:300px; height:20px; vertical-align: middle;'></progress>\n",
       "      [18750/18750 1:10:50, Epoch 30/30]\n",
       "    </div>\n",
       "    <table border=\"1\" class=\"dataframe\">\n",
       "  <thead>\n",
       " <tr style=\"text-align: left;\">\n",
       "      <th>Step</th>\n",
       "      <th>Training Loss</th>\n",
       "    </tr>\n",
       "  </thead>\n",
       "  <tbody>\n",
       "    <tr>\n",
       "      <td>500</td>\n",
       "      <td>2.101700</td>\n",
       "    </tr>\n",
       "    <tr>\n",
       "      <td>1000</td>\n",
       "      <td>1.415200</td>\n",
       "    </tr>\n",
       "    <tr>\n",
       "      <td>1500</td>\n",
       "      <td>1.163800</td>\n",
       "    </tr>\n",
       "    <tr>\n",
       "      <td>2000</td>\n",
       "      <td>0.999400</td>\n",
       "    </tr>\n",
       "    <tr>\n",
       "      <td>2500</td>\n",
       "      <td>0.902600</td>\n",
       "    </tr>\n",
       "    <tr>\n",
       "      <td>3000</td>\n",
       "      <td>0.774200</td>\n",
       "    </tr>\n",
       "    <tr>\n",
       "      <td>3500</td>\n",
       "      <td>0.682200</td>\n",
       "    </tr>\n",
       "    <tr>\n",
       "      <td>4000</td>\n",
       "      <td>0.656700</td>\n",
       "    </tr>\n",
       "    <tr>\n",
       "      <td>4500</td>\n",
       "      <td>0.604900</td>\n",
       "    </tr>\n",
       "    <tr>\n",
       "      <td>5000</td>\n",
       "      <td>0.534100</td>\n",
       "    </tr>\n",
       "    <tr>\n",
       "      <td>5500</td>\n",
       "      <td>0.490400</td>\n",
       "    </tr>\n",
       "    <tr>\n",
       "      <td>6000</td>\n",
       "      <td>0.463800</td>\n",
       "    </tr>\n",
       "    <tr>\n",
       "      <td>6500</td>\n",
       "      <td>0.422600</td>\n",
       "    </tr>\n",
       "    <tr>\n",
       "      <td>7000</td>\n",
       "      <td>0.395300</td>\n",
       "    </tr>\n",
       "    <tr>\n",
       "      <td>7500</td>\n",
       "      <td>0.395400</td>\n",
       "    </tr>\n",
       "    <tr>\n",
       "      <td>8000</td>\n",
       "      <td>0.334600</td>\n",
       "    </tr>\n",
       "    <tr>\n",
       "      <td>8500</td>\n",
       "      <td>0.326700</td>\n",
       "    </tr>\n",
       "    <tr>\n",
       "      <td>9000</td>\n",
       "      <td>0.311400</td>\n",
       "    </tr>\n",
       "    <tr>\n",
       "      <td>9500</td>\n",
       "      <td>0.284600</td>\n",
       "    </tr>\n",
       "    <tr>\n",
       "      <td>10000</td>\n",
       "      <td>0.274700</td>\n",
       "    </tr>\n",
       "    <tr>\n",
       "      <td>10500</td>\n",
       "      <td>0.262400</td>\n",
       "    </tr>\n",
       "    <tr>\n",
       "      <td>11000</td>\n",
       "      <td>0.238900</td>\n",
       "    </tr>\n",
       "    <tr>\n",
       "      <td>11500</td>\n",
       "      <td>0.231400</td>\n",
       "    </tr>\n",
       "    <tr>\n",
       "      <td>12000</td>\n",
       "      <td>0.216200</td>\n",
       "    </tr>\n",
       "    <tr>\n",
       "      <td>12500</td>\n",
       "      <td>0.215400</td>\n",
       "    </tr>\n",
       "    <tr>\n",
       "      <td>13000</td>\n",
       "      <td>0.204200</td>\n",
       "    </tr>\n",
       "    <tr>\n",
       "      <td>13500</td>\n",
       "      <td>0.190900</td>\n",
       "    </tr>\n",
       "    <tr>\n",
       "      <td>14000</td>\n",
       "      <td>0.178100</td>\n",
       "    </tr>\n",
       "    <tr>\n",
       "      <td>14500</td>\n",
       "      <td>0.187300</td>\n",
       "    </tr>\n",
       "    <tr>\n",
       "      <td>15000</td>\n",
       "      <td>0.176400</td>\n",
       "    </tr>\n",
       "    <tr>\n",
       "      <td>15500</td>\n",
       "      <td>0.175000</td>\n",
       "    </tr>\n",
       "    <tr>\n",
       "      <td>16000</td>\n",
       "      <td>0.156300</td>\n",
       "    </tr>\n",
       "    <tr>\n",
       "      <td>16500</td>\n",
       "      <td>0.159100</td>\n",
       "    </tr>\n",
       "    <tr>\n",
       "      <td>17000</td>\n",
       "      <td>0.149000</td>\n",
       "    </tr>\n",
       "    <tr>\n",
       "      <td>17500</td>\n",
       "      <td>0.157300</td>\n",
       "    </tr>\n",
       "    <tr>\n",
       "      <td>18000</td>\n",
       "      <td>0.150600</td>\n",
       "    </tr>\n",
       "    <tr>\n",
       "      <td>18500</td>\n",
       "      <td>0.139500</td>\n",
       "    </tr>\n",
       "  </tbody>\n",
       "</table><p>"
      ],
      "text/plain": [
       "<IPython.core.display.HTML object>"
      ]
     },
     "metadata": {},
     "output_type": "display_data"
    },
    {
     "name": "stdout",
     "output_type": "stream",
     "text": [
      "Model saved at models/tuned_distilbert/20newsgroups\n"
     ]
    }
   ],
   "source": [
    "DB_tuner.fine_tune(epochs=30)"
   ]
  },
  {
   "cell_type": "code",
   "execution_count": 11,
   "metadata": {},
   "outputs": [
    {
     "name": "stdout",
     "output_type": "stream",
     "text": [
      "Trained with classes: alt.atheism, comp.graphics, comp.os.ms-windows.misc, comp.sys.ibm.pc.hardware, comp.sys.mac.hardware, comp.windows.x, misc.forsale, rec.autos, rec.motorcycles, rec.sport.baseball, rec.sport.hockey, sci.crypt, sci.electronics, sci.med, sci.space, soc.religion.christian, talk.religion.misc\n",
      "Holding out classes: talk.politics.guns, talk.politics.mideast, talk.politics.misc\n"
     ]
    },
    {
     "data": {
      "application/vnd.jupyter.widget-view+json": {
       "model_id": "04b26b8474ff4b24ab8645dcf0ef1a63",
       "version_major": 2,
       "version_minor": 0
      },
      "text/plain": [
       "Batches:   0%|          | 0/365 [00:00<?, ?it/s]"
      ]
     },
     "metadata": {},
     "output_type": "display_data"
    },
    {
     "name": "stdout",
     "output_type": "stream",
     "text": [
      "FAISS index created w/ dimension: 768\n"
     ]
    },
    {
     "data": {
      "application/vnd.jupyter.widget-view+json": {
       "model_id": "8414483436344ba49fa02d08d96473b2",
       "version_major": 2,
       "version_minor": 0
      },
      "text/plain": [
       "Batches:   0%|          | 0/102 [00:00<?, ?it/s]"
      ]
     },
     "metadata": {},
     "output_type": "display_data"
    },
    {
     "name": "stdout",
     "output_type": "stream",
     "text": [
      "\n",
      "== Regular Test Evaluation Results (KNN) ==\n",
      "Accuracy:    0.7260\n",
      "F1-Score:    0.7291\n",
      "Precision:   0.7354\n",
      "Recall:      0.7260\n",
      "MRR:         0.7714\n",
      "Top-5 Acc: 0.8259\n",
      "\n",
      "Full Classification Report:\n",
      "                          precision    recall  f1-score   support\n",
      "\n",
      "             alt.atheism       0.58      0.61      0.59       160\n",
      "           comp.graphics       0.69      0.72      0.71       195\n",
      " comp.os.ms-windows.misc       0.47      0.68      0.56       197\n",
      "comp.sys.ibm.pc.hardware       0.62      0.62      0.62       196\n",
      "   comp.sys.mac.hardware       0.61      0.62      0.61       193\n",
      "          comp.windows.x       0.82      0.84      0.83       198\n",
      "            misc.forsale       0.78      0.75      0.77       195\n",
      "               rec.autos       0.77      0.75      0.76       198\n",
      "         rec.motorcycles       0.81      0.77      0.79       199\n",
      "      rec.sport.baseball       0.93      0.86      0.90       199\n",
      "        rec.sport.hockey       0.91      0.85      0.88       200\n",
      "               sci.crypt       0.82      0.78      0.80       198\n",
      "         sci.electronics       0.67      0.66      0.67       197\n",
      "                 sci.med       0.86      0.87      0.87       198\n",
      "               sci.space       0.84      0.77      0.80       197\n",
      "  soc.religion.christian       0.76      0.70      0.73       199\n",
      "      talk.religion.misc       0.38      0.36      0.37       126\n",
      "\n",
      "                accuracy                           0.73      3245\n",
      "               macro avg       0.73      0.72      0.72      3245\n",
      "            weighted avg       0.74      0.73      0.73      3245\n",
      "\n"
     ]
    },
    {
     "data": {
      "application/vnd.jupyter.widget-view+json": {
       "model_id": "f01a9bd1aa2c4951b7e53fde276b6b79",
       "version_major": 2,
       "version_minor": 0
      },
      "text/plain": [
       "Batches:   0%|          | 0/102 [00:00<?, ?it/s]"
      ]
     },
     "metadata": {},
     "output_type": "display_data"
    },
    {
     "name": "stdout",
     "output_type": "stream",
     "text": [
      "\n",
      "== Classifier Evaluation Metrics ==\n",
      "Average Loss: 2.7357\n",
      "Perplexity:   15.4199\n",
      "Few-Shot Learning: Adding Holdout Classes to Index\n"
     ]
    },
    {
     "data": {
      "application/vnd.jupyter.widget-view+json": {
       "model_id": "c572e1361e7a4f8cbb7c29a5c8628f1b",
       "version_major": 2,
       "version_minor": 0
      },
      "text/plain": [
       "Batches:   0%|          | 0/1 [00:00<?, ?it/s]"
      ]
     },
     "metadata": {},
     "output_type": "display_data"
    },
    {
     "data": {
      "application/vnd.jupyter.widget-view+json": {
       "model_id": "c862c366c15d4d72a714315115aaeb35",
       "version_major": 2,
       "version_minor": 0
      },
      "text/plain": [
       "Batches:   0%|          | 0/183 [00:00<?, ?it/s]"
      ]
     },
     "metadata": {},
     "output_type": "display_data"
    },
    {
     "name": "stdout",
     "output_type": "stream",
     "text": [
      "\n",
      "== Holdout (Few-Shot) Evaluation Results (KNN) ==\n",
      "Accuracy:    0.4058\n",
      "F1-Score:    0.3415\n",
      "Precision:   0.5935\n",
      "Recall:      0.4058\n",
      "MRR:         0.4514\n",
      "Top-5 Acc: 0.5045\n",
      "\n",
      "Full Classification Report:\n",
      "                          precision    recall  f1-score   support\n",
      "\n",
      "             alt.atheism       0.10      0.61      0.17       160\n",
      "           comp.graphics       0.62      0.72      0.67       195\n",
      " comp.os.ms-windows.misc       0.35      0.68      0.46       197\n",
      "comp.sys.ibm.pc.hardware       0.60      0.62      0.61       196\n",
      "   comp.sys.mac.hardware       0.64      0.61      0.63       193\n",
      "          comp.windows.x       0.79      0.84      0.81       198\n",
      "            misc.forsale       0.70      0.75      0.72       195\n",
      "               rec.autos       0.54      0.75      0.63       198\n",
      "         rec.motorcycles       0.40      0.77      0.53       199\n",
      "      rec.sport.baseball       0.83      0.86      0.84       199\n",
      "        rec.sport.hockey       0.78      0.85      0.81       200\n",
      "               sci.crypt       0.26      0.78      0.39       198\n",
      "         sci.electronics       0.56      0.66      0.60       197\n",
      "                 sci.med       0.55      0.86      0.67       198\n",
      "               sci.space       0.56      0.77      0.65       197\n",
      "  soc.religion.christian       0.67      0.70      0.68       199\n",
      "      talk.politics.guns       0.00      0.00      0.00       905\n",
      "   talk.politics.mideast       1.00      0.02      0.04       935\n",
      "      talk.politics.misc       1.00      0.00      0.00       770\n",
      "      talk.religion.misc       0.06      0.36      0.10       126\n",
      "\n",
      "                accuracy                           0.41      5855\n",
      "               macro avg       0.55      0.61      0.50      5855\n",
      "            weighted avg       0.59      0.41      0.34      5855\n",
      "\n"
     ]
    },
    {
     "name": "stderr",
     "output_type": "stream",
     "text": [
      "/Users/joshbelot/Virtual_Environments/DL_newsgroups/lib/python3.11/site-packages/sklearn/metrics/_classification.py:1509: UndefinedMetricWarning: Precision is ill-defined and being set to 0.0 in labels with no predicted samples. Use `zero_division` parameter to control this behavior.\n",
      "  _warn_prf(average, modifier, f\"{metric.capitalize()} is\", len(result))\n",
      "/Users/joshbelot/Virtual_Environments/DL_newsgroups/lib/python3.11/site-packages/sklearn/metrics/_classification.py:1509: UndefinedMetricWarning: Precision is ill-defined and being set to 0.0 in labels with no predicted samples. Use `zero_division` parameter to control this behavior.\n",
      "  _warn_prf(average, modifier, f\"{metric.capitalize()} is\", len(result))\n",
      "/Users/joshbelot/Virtual_Environments/DL_newsgroups/lib/python3.11/site-packages/sklearn/metrics/_classification.py:1509: UndefinedMetricWarning: Precision is ill-defined and being set to 0.0 in labels with no predicted samples. Use `zero_division` parameter to control this behavior.\n",
      "  _warn_prf(average, modifier, f\"{metric.capitalize()} is\", len(result))\n",
      "/Users/joshbelot/Virtual_Environments/DL_newsgroups/lib/python3.11/site-packages/sklearn/metrics/_classification.py:1509: UndefinedMetricWarning: Precision is ill-defined and being set to 0.0 in labels with no predicted samples. Use `zero_division` parameter to control this behavior.\n",
      "  _warn_prf(average, modifier, f\"{metric.capitalize()} is\", len(result))\n"
     ]
    }
   ],
   "source": [
    "run_text_classification_pipeline(dataset, model_name='models/tuned_distilbert/20newsgroups')"
   ]
  },
  {
   "cell_type": "code",
   "execution_count": null,
   "metadata": {},
   "outputs": [],
   "source": []
  }
 ],
 "metadata": {
  "kernelspec": {
   "display_name": "DL_newsgroups",
   "language": "python",
   "name": "python3"
  },
  "language_info": {
   "codemirror_mode": {
    "name": "ipython",
    "version": 3
   },
   "file_extension": ".py",
   "mimetype": "text/x-python",
   "name": "python",
   "nbconvert_exporter": "python",
   "pygments_lexer": "ipython3",
   "version": "3.11.11"
  }
 },
 "nbformat": 4,
 "nbformat_minor": 2
}
